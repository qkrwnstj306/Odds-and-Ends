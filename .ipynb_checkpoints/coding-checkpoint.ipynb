{
 "cells": [
  {
   "cell_type": "markdown",
   "id": "bd58b52c-c83c-4bab-ac45-bdb974b397f2",
   "metadata": {},
   "source": [
    "# Python"
   ]
  },
  {
   "cell_type": "markdown",
   "id": "eb807435-bf93-4cca-a277-6557fc39a192",
   "metadata": {},
   "source": [
    "## map\n",
    "은 반복연산을 해주는 for와 비슷하다<br>\n",
    "- lambda와 같이 쓰이는 경우가 많다\n",
    "- map(각 원소에 적용시킬 함수, 각 원소들의 집합)"
   ]
  },
  {
   "cell_type": "code",
   "execution_count": 11,
   "id": "854adaba-f071-400f-968d-bbf596379ae2",
   "metadata": {},
   "outputs": [],
   "source": [
    "a = [2,4,6,8,10]"
   ]
  },
  {
   "cell_type": "code",
   "execution_count": 13,
   "id": "a4fbae32-65c0-4323-99a5-3c37780ac9c7",
   "metadata": {},
   "outputs": [
    {
     "data": {
      "text/plain": [
       "[4, 16, 36, 64, 100]"
      ]
     },
     "execution_count": 13,
     "metadata": {},
     "output_type": "execute_result"
    }
   ],
   "source": [
    "a_square = list(map(lambda x: x**2, a))\n",
    "a_square"
   ]
  },
  {
   "cell_type": "markdown",
   "id": "e0287dc3-91c4-43ed-931e-d5175858bc81",
   "metadata": {},
   "source": [
    "## lambda\n",
    "- 익명함수로써 함수 선언을 할 때, 이름을 선언하지 않고 바로 함수의 기능을 사용하겠다\n",
    "- lambda [arg]: [func]\n",
    "- 복잡한 기능의 함수를 구현할 순 없다\n",
    "- <strong>파이썬에서 함수는 객체화 시킬 수 있다 -> 변수처럼 사용이 가능하다</strong>"
   ]
  },
  {
   "cell_type": "code",
   "execution_count": 31,
   "id": "6d148923-6387-493e-9e3e-4b399bf33a37",
   "metadata": {},
   "outputs": [
    {
     "name": "stdout",
     "output_type": "stream",
     "text": [
      "power:  4\n",
      "temp:  4\n"
     ]
    }
   ],
   "source": [
    "def power(x):\n",
    "    return x**2\n",
    "\n",
    "print('power: ',power(2))\n",
    "\n",
    "temp = power\n",
    "print('temp: ',temp(2))"
   ]
  },
  {
   "cell_type": "code",
   "execution_count": 32,
   "id": "8631bc84-64d7-4d68-989a-cd3dc90d787c",
   "metadata": {},
   "outputs": [
    {
     "data": {
      "text/plain": [
       "4"
      ]
     },
     "execution_count": 32,
     "metadata": {},
     "output_type": "execute_result"
    }
   ],
   "source": [
    "power = lambda x: x*2\n",
    "power(2)"
   ]
  },
  {
   "cell_type": "code",
   "execution_count": 33,
   "id": "a3f04661-6776-4138-bfbc-2200cad111ea",
   "metadata": {},
   "outputs": [],
   "source": [
    "def print_ops(func, num1, num2):\n",
    "    print(func(num1,num2))"
   ]
  },
  {
   "cell_type": "code",
   "execution_count": 34,
   "id": "c5aa3f7a-8f94-4f6f-8e02-398b34210d58",
   "metadata": {},
   "outputs": [
    {
     "name": "stdout",
     "output_type": "stream",
     "text": [
      "88\n"
     ]
    }
   ],
   "source": [
    "print_ops(lambda a, b: a*b, 22,4)"
   ]
  },
  {
   "cell_type": "markdown",
   "id": "ccdc5739-d460-4fa3-aee5-52e4d9ebd986",
   "metadata": {},
   "source": [
    "### *args & **kwargs\n",
    "- 함수 호출 시에 인자로 사용할 때,</br>\n",
    "    - Unpacking 을 해준다.\n",
    "- 함수 내에서 인자로 받을 때,</br>\n",
    "    - *이젠 unpacking을 해주는 역할에서 packing을 해주는 역할로 바뀐다.*\n",
    "    - *args</br>\n",
    "        - 변수명과 함께 선언되지 않은 것들을 tuple 로 받는다.\n",
    "    - *kwargs</br>\n",
    "        - 변수명과 함께 선언된 것들을 dict 형태로 받는다."
   ]
  },
  {
   "cell_type": "code",
   "execution_count": 67,
   "id": "80ae0f91-f3b9-4dca-8bb2-92a578c6af2c",
   "metadata": {},
   "outputs": [
    {
     "name": "stdout",
     "output_type": "stream",
     "text": [
      "a: 1\n",
      "b: 2\n",
      "c: 3\n",
      "a: 1\n",
      "b: 2\n",
      "c: 3\n"
     ]
    }
   ],
   "source": [
    "def print_test(a, b, c):\n",
    "    print(f\"a: {a}\\nb: {b}\\nc: {c}\")\n",
    "\n",
    "print_test(1,2,3)\n",
    "#print_test(1,[2,3]) -> error: [2,3]을 unpacking 해주지 않아서 c에 받은 인자가 없다..!\n",
    "print_test(1,*[2,3])"
   ]
  },
  {
   "cell_type": "code",
   "execution_count": 68,
   "id": "6d4f97af-ca9c-4452-85f8-1e9e594ac9b9",
   "metadata": {},
   "outputs": [
    {
     "name": "stdout",
     "output_type": "stream",
     "text": [
      "a: 1\n",
      "args: (2, 3)\n"
     ]
    }
   ],
   "source": [
    "def print_test_args(a, *args):\n",
    "    print(f\"a: {a}\\nargs: {args}\")\n",
    "\n",
    "print_test_args(1,2,3)"
   ]
  },
  {
   "cell_type": "code",
   "execution_count": 69,
   "id": "4956808d-7198-496d-89a7-c5c56c5ad94f",
   "metadata": {},
   "outputs": [
    {
     "name": "stdout",
     "output_type": "stream",
     "text": [
      "a: 1\n",
      "kwargs: {'b': 2, 'c': 3}\n"
     ]
    }
   ],
   "source": [
    "def print_test_kwargs(a, **kwargs):\n",
    "    print(f\"a: {a}\\nkwargs: {kwargs}\")\n",
    "\n",
    "print_test_kwargs(1, b=2, c=3)"
   ]
  },
  {
   "cell_type": "code",
   "execution_count": 71,
   "id": "85b6d9e0-2964-4389-a089-b2aef62654e4",
   "metadata": {},
   "outputs": [
    {
     "name": "stdout",
     "output_type": "stream",
     "text": [
      "a: 1\n",
      "args: (2, 3)\n",
      "kwargs: {'b': 4, 'c': 5}\n"
     ]
    }
   ],
   "source": [
    "def print_test_all(a, *args, **kwargs):\n",
    "    print(f\"a: {a}\\nargs: {args}\\nkwargs: {kwargs}\")\n",
    "\n",
    "print_test_all(1, 2, 3, b=4, c=5)"
   ]
  },
  {
   "cell_type": "markdown",
   "id": "92039022-30d1-4cdc-9eaf-cf9f30c16372",
   "metadata": {},
   "source": [
    "# Torch"
   ]
  },
  {
   "cell_type": "code",
   "execution_count": 15,
   "id": "2b1b5f18-a536-4d6d-9f1c-8eede17ab7e6",
   "metadata": {},
   "outputs": [],
   "source": [
    "import torch"
   ]
  },
  {
   "cell_type": "code",
   "execution_count": 21,
   "id": "5f89027a-14c3-45ab-93b9-2cfbe4c8ee44",
   "metadata": {},
   "outputs": [
    {
     "data": {
      "text/plain": [
       "(torch.Size([1, 3, 5]), 'torch.FloatTensor')"
      ]
     },
     "execution_count": 21,
     "metadata": {},
     "output_type": "execute_result"
    }
   ],
   "source": [
    "#model의 weight는 float32 data type으로 이루어져 있기에, data도 float 32로 구성해야 한다.\n",
    "a = torch.rand([1,3,5], dtype = torch.float32) \n",
    "a.size(), a.type()"
   ]
  },
  {
   "cell_type": "markdown",
   "id": "bf11fdd0-0fd2-4fde-9587-d78095034842",
   "metadata": {},
   "source": [
    "### view"
   ]
  },
  {
   "cell_type": "code",
   "execution_count": 23,
   "id": "5c911b4a-ee23-41fd-bedc-c4abbd0396f8",
   "metadata": {},
   "outputs": [
    {
     "data": {
      "text/plain": [
       "torch.Size([3, 5])"
      ]
     },
     "execution_count": 23,
     "metadata": {},
     "output_type": "execute_result"
    }
   ],
   "source": [
    "a.view(-1,5).size()"
   ]
  },
  {
   "cell_type": "markdown",
   "id": "8302e038-53ba-49f8-bbba-1c8d3a7761bf",
   "metadata": {},
   "source": [
    "### permute"
   ]
  },
  {
   "cell_type": "code",
   "execution_count": 25,
   "id": "bb1e7ed2-dff7-4bdf-9167-a3e80b86b06d",
   "metadata": {},
   "outputs": [
    {
     "data": {
      "text/plain": [
       "torch.Size([3, 5, 1])"
      ]
     },
     "execution_count": 25,
     "metadata": {},
     "output_type": "execute_result"
    }
   ],
   "source": [
    "#0번째 차원 -> 2번째, 2번째 차원 -> 1번째\n",
    "a.permute(1,2,0).size()"
   ]
  },
  {
   "cell_type": "markdown",
   "id": "1f9e4e1f-7506-4e67-a009-e1ecf913a3ee",
   "metadata": {},
   "source": [
    "### gather"
   ]
  },
  {
   "cell_type": "code",
   "execution_count": 44,
   "id": "5e471f8d-f6ce-436d-9e22-61538998ada0",
   "metadata": {},
   "outputs": [
    {
     "name": "stdout",
     "output_type": "stream",
     "text": [
      "matrix: \n",
      " tensor([[ 0.,  1.,  2.,  3.,  4.,  5.,  6.,  7.,  8.,  9.],\n",
      "        [10., 11., 12., 13., 14., 15., 16., 17., 18., 19.],\n",
      "        [20., 21., 22., 23., 24., 25., 26., 27., 28., 29.],\n",
      "        [30., 31., 32., 33., 34., 35., 36., 37., 38., 39.],\n",
      "        [40., 41., 42., 43., 44., 45., 46., 47., 48., 49.],\n",
      "        [50., 51., 52., 53., 54., 55., 56., 57., 58., 59.],\n",
      "        [60., 61., 62., 63., 64., 65., 66., 67., 68., 69.],\n",
      "        [70., 71., 72., 73., 74., 75., 76., 77., 78., 79.],\n",
      "        [80., 81., 82., 83., 84., 85., 86., 87., 88., 89.],\n",
      "        [90., 91., 92., 93., 94., 95., 96., 97., 98., 99.]])\n",
      "torch.Size([10, 10])\n",
      "torch.Size([10, 1])\n",
      "result: \n",
      " tensor([[ 0.],\n",
      "        [11.],\n",
      "        [22.],\n",
      "        [33.],\n",
      "        [44.],\n",
      "        [55.],\n",
      "        [66.],\n",
      "        [77.],\n",
      "        [88.],\n",
      "        [99.]])\n"
     ]
    },
    {
     "name": "stderr",
     "output_type": "stream",
     "text": [
      "/tmp/ipykernel_1140852/3181578848.py:2: UserWarning: torch.range is deprecated and will be removed in a future release because its behavior is inconsistent with Python's range builtin. Instead, use torch.arange, which produces values in [start, end).\n",
      "  matrix = torch.range(0,99).reshape(10,10)\n"
     ]
    }
   ],
   "source": [
    "\"\"\"특정 index의 값을 쉽게 추출할 수 있다. 이때, indices의 차원은 dim을 빼고 모두 같아야 한다.\"\"\"\n",
    "matrix = torch.range(0,99).reshape(10,10)\n",
    "print(\"matrix: \\n\",matrix)\n",
    "print(matrix.size())\n",
    "indices = [0,1,2,3,4,5,6,7,8,9]\n",
    "indices = torch.tensor(indices).view(10,1)\n",
    "print(indices.size())\n",
    "\n",
    "print(\"result: \\n\",torch.gather(matrix, 1, indices)) \n",
    "# (input, dim, index) -> matrix의 dim에서 index를 뽑는다. 첫 번째 dim(열)에서 index=0인 걸 뽑기 = 0"
   ]
  },
  {
   "cell_type": "code",
   "execution_count": 47,
   "id": "c007f1fb-9f04-4e19-8b29-184d5ee76adc",
   "metadata": {},
   "outputs": [
    {
     "data": {
      "text/plain": [
       "tensor([2, 5, 7])"
      ]
     },
     "execution_count": 47,
     "metadata": {},
     "output_type": "execute_result"
    }
   ],
   "source": [
    "lst = torch.tensor([1,2,3,4,5,6,7,8,9,10])\n",
    "t = torch.tensor([1,4,6])\n",
    "\n",
    "torch.gather(lst,dim=0,index=t)"
   ]
  },
  {
   "cell_type": "markdown",
   "id": "45c011c9-5dc6-4384-91a4-b18431e050b4",
   "metadata": {},
   "source": [
    "### nn.ModuleList vs nn.Sequential"
   ]
  },
  {
   "cell_type": "markdown",
   "id": "47127800-3162-4073-a287-fa096d61579d",
   "metadata": {},
   "source": [
    "- nn.ModuleList 는 list 형태로 layer를 저장하는 기능이기에, forward 연산이 바로 진행되지 않아서 for문으로 forward를 해야한다.</br>\n",
    "이때, input을 여러 개 받을 수 있다는 장점이 있다.\n",
    "- nn.Sequential은 forward 연산이 가능하지만, input은 하나만 받을 수 있다"
   ]
  },
  {
   "cell_type": "code",
   "execution_count": null,
   "id": "fc6ce253-7063-4cd1-b7dc-2f5ef3d7a37c",
   "metadata": {},
   "outputs": [],
   "source": [
    "layers = [nn.Linear(?,?)]\n",
    "layers.append(nn.ReLU(inplace=True))\n",
    "#list를 unpacking\n",
    "self.layers = nn.Sequential(*layers)\n",
    "\n",
    "#forward\n",
    "x = self.layers(x)"
   ]
  },
  {
   "cell_type": "code",
   "execution_count": null,
   "id": "36c641ee-19e5-44eb-a304-14784068e351",
   "metadata": {},
   "outputs": [],
   "source": [
    "layers = [nn.Linear(?,?)]\n",
    "layers.append(nn.ReLU(inplace=True))\n",
    "#list를 인자로 받는다.\n",
    "self.layers = nn.ModuleList(layers)\n",
    "\n",
    "#forward\n",
    "for layer in self.model:\n",
    "            x, y = layer(x, y)"
   ]
  },
  {
   "cell_type": "markdown",
   "id": "efeea5e4-2789-49cc-a93f-49fd9f6da622",
   "metadata": {},
   "source": [
    "### isinstance\n",
    "해당 변수의 클래스 or type 등을 확인해서 조건문에서 사용할 수 있다. E.g. forward()"
   ]
  },
  {
   "cell_type": "code",
   "execution_count": 54,
   "id": "d892030b-f9fe-4077-90bf-b2b85fbfa1af",
   "metadata": {},
   "outputs": [
    {
     "data": {
      "text/plain": [
       "True"
      ]
     },
     "execution_count": 54,
     "metadata": {},
     "output_type": "execute_result"
    }
   ],
   "source": [
    "isinstance(1, int)"
   ]
  },
  {
   "cell_type": "code",
   "execution_count": 55,
   "id": "427bec9e-a312-4647-b62a-c00f40cdf703",
   "metadata": {},
   "outputs": [],
   "source": [
    "import torch.nn as nn\n",
    "class AttnBlock(nn.Module):\n",
    "    pass\n",
    "\n",
    "attn = AttnBlock()"
   ]
  },
  {
   "cell_type": "code",
   "execution_count": 56,
   "id": "f627b12d-3dd9-43ec-aa35-95b7052beef9",
   "metadata": {},
   "outputs": [
    {
     "data": {
      "text/plain": [
       "True"
      ]
     },
     "execution_count": 56,
     "metadata": {},
     "output_type": "execute_result"
    }
   ],
   "source": [
    "isinstance(attn, AttnBlock)"
   ]
  },
  {
   "cell_type": "code",
   "execution_count": null,
   "id": "c7a54df2-3200-41c6-a2b8-7cf377f2e23f",
   "metadata": {},
   "outputs": [],
   "source": [
    "#E.g.\n",
    "if isinstance(layer, AttnBlock):\n",
    "        x = layer(x)\n",
    "    else:\n",
    "        x = layer(x, time_embedding)"
   ]
  }
 ],
 "metadata": {
  "kernelspec": {
   "display_name": "pytorch",
   "language": "python",
   "name": "pytorch"
  },
  "language_info": {
   "codemirror_mode": {
    "name": "ipython",
    "version": 3
   },
   "file_extension": ".py",
   "mimetype": "text/x-python",
   "name": "python",
   "nbconvert_exporter": "python",
   "pygments_lexer": "ipython3",
   "version": "3.8.1"
  }
 },
 "nbformat": 4,
 "nbformat_minor": 5
}
